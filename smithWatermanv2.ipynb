{
 "cells": [
  {
   "cell_type": "code",
   "execution_count": 1,
   "metadata": {},
   "outputs": [
    {
     "name": "stdout",
     "output_type": "stream",
     "text": [
      "Requirement already satisfied: Bio in ./opt/anaconda3/lib/python3.8/site-packages (1.5.3)\n",
      "Requirement already satisfied: biopython>=1.80 in ./opt/anaconda3/lib/python3.8/site-packages (from Bio) (1.81)\n",
      "Requirement already satisfied: requests in ./opt/anaconda3/lib/python3.8/site-packages (from Bio) (2.24.0)\n",
      "Requirement already satisfied: tqdm in ./opt/anaconda3/lib/python3.8/site-packages (from Bio) (4.50.2)\n",
      "Requirement already satisfied: mygene in ./opt/anaconda3/lib/python3.8/site-packages (from Bio) (3.2.2)\n",
      "Requirement already satisfied: numpy in ./opt/anaconda3/lib/python3.8/site-packages (from biopython>=1.80->Bio) (1.23.4)\n",
      "Requirement already satisfied: chardet<4,>=3.0.2 in ./opt/anaconda3/lib/python3.8/site-packages (from requests->Bio) (3.0.4)\n",
      "Requirement already satisfied: certifi>=2017.4.17 in ./opt/anaconda3/lib/python3.8/site-packages (from requests->Bio) (2020.6.20)\n",
      "Requirement already satisfied: urllib3!=1.25.0,!=1.25.1,<1.26,>=1.21.1 in ./opt/anaconda3/lib/python3.8/site-packages (from requests->Bio) (1.25.11)\n",
      "Requirement already satisfied: idna<3,>=2.5 in ./opt/anaconda3/lib/python3.8/site-packages (from requests->Bio) (2.10)\n",
      "Requirement already satisfied: biothings-client>=0.2.6 in ./opt/anaconda3/lib/python3.8/site-packages (from mygene->Bio) (0.2.6)\n",
      "Note: you may need to restart the kernel to use updated packages.\n"
     ]
    }
   ],
   "source": [
    "pip install Bio"
   ]
  },
  {
   "cell_type": "code",
   "execution_count": 3,
   "metadata": {},
   "outputs": [],
   "source": [
    "import numpy as np\n",
    "from Bio import SeqIO\n",
    "from Bio import Entrez"
   ]
  },
  {
   "cell_type": "code",
   "execution_count": 17,
   "metadata": {},
   "outputs": [],
   "source": [
    "def SmithWaterman(v, s, M = 3, N = -3, G = -2): #v,s, MATCH, MISMATCH, GAP (I in lab9)\n",
    "    scoring_matrix = np.zeros(shape=(len(v) + 1,len ( s) + 1) )\n",
    "    v = list(v)\n",
    "    s = list(s)\n",
    "    for i in range(1, len(v)+1):\n",
    "        for j in range(1,len(s)+1):\n",
    "            if v[i-1] == s[j-1]:\n",
    "                MNscore= scoring_matrix[i-1] [j-1] + M\n",
    "            else:\n",
    "                MNscore = scoring_matrix[i-1] [j-1] + N\n",
    "            Gjscore = scoring_matrix[i - 1] [j] + G\n",
    "            Giscore = scoring_matrix[i] [j - 1] + G\n",
    "            scoring_matrix[i] [j] = max(0,MNscore,Gjscore,Giscore)\n",
    "    print(scoring_matrix)\n",
    "    alignment_v = ''\n",
    "    alignment_s = ''\n",
    "    matrix_of_max_scores = np.argwhere(scoring_matrix == np.max(scoring_matrix))\n",
    "    for pairs in matrix_of_max_scores:\n",
    "        for numbers in pairs:\n",
    "            max_index = pairs[0] , pairs[1] #good up to here for sure\n",
    "            y = int(pairs[0])\n",
    "            x = int(pairs[1])\n",
    "        while scoring_matrix[y] [x] > 0:\n",
    "            max_score = max(scoring_matrix[y] [x],scoring_matrix[y-1] [x], scoring_matrix[y] [x-1])\n",
    "            if max_score == scoring_matrix[y] [x]: #\n",
    "                alignment_v = v[y-1] + alignment_v\n",
    "                alignment_s = s[x-1] + alignment_s\n",
    "                y = y - 1\n",
    "                x = x - 1\n",
    "            elif max_score == scoring_matrix[y-1][x]:\n",
    "                alignment_v = v[y-1] + alignment_v\n",
    "                alignment_s = '-' + alignment_s\n",
    "                y = y - 1\n",
    "            elif max_score == scoring_matrix[y][x-1]:\n",
    "                alignment_v = '-' + alignment_v\n",
    "                alignment_s = s[x-1] + alignment_s\n",
    "                x = x - 1\n",
    "            else:\n",
    "                print('error')\n",
    "        print(alignment_v + '\\n' + alignment_s)\n",
    "        alignment_file = 'alignments_v_and_s'\n",
    "        alignment_file_open = open(alignment_file,'w')\n",
    "        alignment_file_open.write(alignment_v + '\\n' + alignment_s)\n",
    "        alignment_file_open.close()\n",
    "    print (y)\n",
    "    return scoring_matrix, y"
   ]
  },
  {
   "cell_type": "code",
   "execution_count": null,
   "metadata": {},
   "outputs": [],
   "source": [
    "Entrez.email = \"rjang@u.rochester.edu\"\n",
    "handle_open = Entrez.efetch(db=\"nucleotide\", id=\"NZ_LOEL01000001.1\", rettype=\"fasta\", retmode=\"text\")\n",
    "handle_read= handle_open.read()\n",
    "handle_read_split = handle_read.split('\\n')\n",
    "handle_read_split_joined = ''.join(\n",
    "handle_read_split)\n",
    "v = handle_read_split_joined\n",
    "s = 'atqtqqcqcqtqqtqtttqattqcqaaqaaqcqqtqcqctqqctqcqccaqqcqaaacataccctqqaaaqcattcqcqtqqattatqaaqqcqqcttttataqctqqqcqtqctttaaaqcqaaccaqqcqqcqqaatataqcattaaaqcqqtqctqcqcqcqqcqqqcctqqaaaqctttqqccatqatctqatqqcqctqtqqcqccqcqcqcqcaqcctqtqccaqccqctqcaqqaaatqqaaqaatqcattqcqqtqctqaacaaactqtatctqccqccqcqctatccqqatqcqtqqccqqqcqqcqcqqcqccqtttqaaaactatacccqccqcqatqcqqaaqaaqcqctqqaatqcqcqaqccqcqtqtatcqcqcqqtqqaaqaatqcctqqqcqaaqaatqcqaaqataqc'\n",
    "s = s.upper()\n",
    "\n",
    "SmithWaterman(v, s)"
   ]
  },
  {
   "cell_type": "code",
   "execution_count": null,
   "metadata": {},
   "outputs": [],
   "source": []
  }
 ],
 "metadata": {
  "kernelspec": {
   "display_name": "Python 3",
   "language": "python",
   "name": "python3"
  },
  "language_info": {
   "codemirror_mode": {
    "name": "ipython",
    "version": 3
   },
   "file_extension": ".py",
   "mimetype": "text/x-python",
   "name": "python",
   "nbconvert_exporter": "python",
   "pygments_lexer": "ipython3",
   "version": "3.8.5"
  }
 },
 "nbformat": 4,
 "nbformat_minor": 4
}
